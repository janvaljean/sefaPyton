{
 "cells": [
  {
   "cell_type": "code",
   "execution_count": 6,
   "metadata": {},
   "outputs": [
    {
     "name": "stdout",
     "output_type": "stream",
     "text": [
      "Adjusting noise \n",
      "Recording for 4 seconds\n",
      "Done recording\n",
      "Recognizing the text\n",
      "result2:\n",
      "{   'alternative': [   {   'confidence': 0.23242173,\n",
      "                           'transcript': 'elektriği öpüyorum'},\n",
      "                       {'transcript': 'Melek dövme yapıyorum'},\n",
      "                       {'transcript': 'melektim yapıyorum'},\n",
      "                       {'transcript': 'bekleme yapıyorum'},\n",
      "                       {'transcript': 'elektriğe öpüyorum'}],\n",
      "    'final': True}\n",
      "'_io.TextIOWrapper' object has no attribute 'append'\n",
      "Adjusting noise \n",
      "Recording for 4 seconds\n",
      "Done recording\n",
      "Recognizing the text\n",
      "result2:\n",
      "[]\n",
      "\n",
      "Adjusting noise \n",
      "Recording for 4 seconds\n",
      "Done recording\n",
      "Recognizing the text\n",
      "result2:\n",
      "{   'alternative': [   {   'confidence': 0.82958174,\n",
      "                           'transcript': 'gözaltı yok Deneme 1-2 deneme devam '\n",
      "                                         'ediyor'},\n",
      "                       {   'transcript': 'göz6 yok Deneme 1-2 deneme devam '\n",
      "                                         'ediyor'},\n",
      "                       {   'transcript': 'göz altı yok Deneme 1-2 deneme devam '\n",
      "                                         'ediyor'},\n",
      "                       {   'transcript': 'özalt yok Deneme 1-2 deneme devam '\n",
      "                                         'ediyor'},\n",
      "                       {   'transcript': 'Öz 6.yok deneme 1-2 deneme devam '\n",
      "                                         'ediyor'}],\n",
      "    'final': True}\n",
      "'_io.TextIOWrapper' object has no attribute 'append'\n",
      "Adjusting noise \n",
      "Recording for 4 seconds\n"
     ]
    },
    {
     "ename": "KeyboardInterrupt",
     "evalue": "",
     "output_type": "error",
     "traceback": [
      "\u001b[1;31m---------------------------------------------------------------------------\u001b[0m",
      "\u001b[1;31mKeyboardInterrupt\u001b[0m                         Traceback (most recent call last)",
      "\u001b[1;32mc:\\Users\\sfkrt\\Desktop\\python projeler\\learn any language\\sefaPyton\\voice\\demo.ipynb Zelle 1\u001b[0m in \u001b[0;36m<cell line: 8>\u001b[1;34m()\u001b[0m\n\u001b[0;32m     <a href='vscode-notebook-cell:/c%3A/Users/sfkrt/Desktop/python%20projeler/learn%20any%20language/sefaPyton/voice/demo.ipynb#W0sZmlsZQ%3D%3D?line=9'>10</a>\u001b[0m     recognizer\u001b[39m.\u001b[39madjust_for_ambient_noise(source, duration\u001b[39m=\u001b[39m\u001b[39m1\u001b[39m)\n\u001b[0;32m     <a href='vscode-notebook-cell:/c%3A/Users/sfkrt/Desktop/python%20projeler/learn%20any%20language/sefaPyton/voice/demo.ipynb#W0sZmlsZQ%3D%3D?line=10'>11</a>\u001b[0m     \u001b[39mprint\u001b[39m(\u001b[39m\"\u001b[39m\u001b[39mRecording for 4 seconds\u001b[39m\u001b[39m\"\u001b[39m)\n\u001b[1;32m---> <a href='vscode-notebook-cell:/c%3A/Users/sfkrt/Desktop/python%20projeler/learn%20any%20language/sefaPyton/voice/demo.ipynb#W0sZmlsZQ%3D%3D?line=11'>12</a>\u001b[0m     recorded_audio \u001b[39m=\u001b[39m recognizer\u001b[39m.\u001b[39;49mlisten(source, timeout\u001b[39m=\u001b[39;49m\u001b[39m4\u001b[39;49m)\n\u001b[0;32m     <a href='vscode-notebook-cell:/c%3A/Users/sfkrt/Desktop/python%20projeler/learn%20any%20language/sefaPyton/voice/demo.ipynb#W0sZmlsZQ%3D%3D?line=12'>13</a>\u001b[0m     \u001b[39mprint\u001b[39m(\u001b[39m\"\u001b[39m\u001b[39mDone recording\u001b[39m\u001b[39m\"\u001b[39m)\n\u001b[0;32m     <a href='vscode-notebook-cell:/c%3A/Users/sfkrt/Desktop/python%20projeler/learn%20any%20language/sefaPyton/voice/demo.ipynb#W0sZmlsZQ%3D%3D?line=14'>15</a>\u001b[0m \u001b[39m''' Recorgnizing the Audio '''\u001b[39;00m\n",
      "File \u001b[1;32mc:\\Users\\sfkrt\\anaconda3\\lib\\site-packages\\speech_recognition\\__init__.py:709\u001b[0m, in \u001b[0;36mRecognizer.listen\u001b[1;34m(self, source, timeout, phrase_time_limit, snowboy_configuration)\u001b[0m\n\u001b[0;32m    706\u001b[0m \u001b[39mif\u001b[39;00m phrase_time_limit \u001b[39mand\u001b[39;00m elapsed_time \u001b[39m-\u001b[39m phrase_start_time \u001b[39m>\u001b[39m phrase_time_limit:\n\u001b[0;32m    707\u001b[0m     \u001b[39mbreak\u001b[39;00m\n\u001b[1;32m--> 709\u001b[0m buffer \u001b[39m=\u001b[39m source\u001b[39m.\u001b[39;49mstream\u001b[39m.\u001b[39;49mread(source\u001b[39m.\u001b[39;49mCHUNK)\n\u001b[0;32m    710\u001b[0m \u001b[39mif\u001b[39;00m \u001b[39mlen\u001b[39m(buffer) \u001b[39m==\u001b[39m \u001b[39m0\u001b[39m: \u001b[39mbreak\u001b[39;00m  \u001b[39m# reached end of the stream\u001b[39;00m\n\u001b[0;32m    711\u001b[0m frames\u001b[39m.\u001b[39mappend(buffer)\n",
      "File \u001b[1;32mc:\\Users\\sfkrt\\anaconda3\\lib\\site-packages\\speech_recognition\\__init__.py:211\u001b[0m, in \u001b[0;36mMicrophone.MicrophoneStream.read\u001b[1;34m(self, size)\u001b[0m\n\u001b[0;32m    210\u001b[0m \u001b[39mdef\u001b[39;00m \u001b[39mread\u001b[39m(\u001b[39mself\u001b[39m, size):\n\u001b[1;32m--> 211\u001b[0m     \u001b[39mreturn\u001b[39;00m \u001b[39mself\u001b[39;49m\u001b[39m.\u001b[39;49mpyaudio_stream\u001b[39m.\u001b[39;49mread(size, exception_on_overflow\u001b[39m=\u001b[39;49m\u001b[39mFalse\u001b[39;49;00m)\n",
      "File \u001b[1;32mc:\\Users\\sfkrt\\anaconda3\\lib\\site-packages\\pyaudio.py:612\u001b[0m, in \u001b[0;36mStream.read\u001b[1;34m(self, num_frames, exception_on_overflow)\u001b[0m\n\u001b[0;32m    608\u001b[0m \u001b[39mif\u001b[39;00m \u001b[39mnot\u001b[39;00m \u001b[39mself\u001b[39m\u001b[39m.\u001b[39m_is_input:\n\u001b[0;32m    609\u001b[0m     \u001b[39mraise\u001b[39;00m \u001b[39mIOError\u001b[39;00m(\u001b[39m\"\u001b[39m\u001b[39mNot input stream\u001b[39m\u001b[39m\"\u001b[39m,\n\u001b[0;32m    610\u001b[0m                   paCanNotReadFromAnOutputOnlyStream)\n\u001b[1;32m--> 612\u001b[0m \u001b[39mreturn\u001b[39;00m pa\u001b[39m.\u001b[39;49mread_stream(\u001b[39mself\u001b[39;49m\u001b[39m.\u001b[39;49m_stream, num_frames, exception_on_overflow)\n",
      "\u001b[1;31mKeyboardInterrupt\u001b[0m: "
     ]
    }
   ],
   "source": [
    "import speech_recognition as sr\n",
    "recognizer = sr.Recognizer()\n",
    "with open(\"recorded.txt\", \"w\") as f:\n",
    "    ''' recording the sound '''\n",
    "\n",
    "while True:\n",
    "    \n",
    "    with sr.Microphone() as source:\n",
    "        print(\"Adjusting noise \")\n",
    "        recognizer.adjust_for_ambient_noise(source, duration=1)\n",
    "        print(\"Recording for 4 seconds\")\n",
    "        recorded_audio = recognizer.listen(source, timeout=4)\n",
    "        print(\"Done recording\")\n",
    "\n",
    "    ''' Recorgnizing the Audio '''\n",
    "\n",
    "    try:\n",
    "        print(\"Recognizing the text\")\n",
    "        text = recognizer.recognize_google(\n",
    "            recorded_audio,\n",
    "            language=\"Tr\"\n",
    "        )\n",
    "        #print(\"Decoded Text : {}\".format(text))\n",
    "        f.append(text)\n",
    "        print(f)\n",
    "\n",
    "    except Exception as ex:\n",
    "        print(ex)\n"
   ]
  }
 ],
 "metadata": {
  "kernelspec": {
   "display_name": "base",
   "language": "python",
   "name": "python3"
  },
  "language_info": {
   "codemirror_mode": {
    "name": "ipython",
    "version": 3
   },
   "file_extension": ".py",
   "mimetype": "text/x-python",
   "name": "python",
   "nbconvert_exporter": "python",
   "pygments_lexer": "ipython3",
   "version": "3.9.12"
  },
  "orig_nbformat": 4,
  "vscode": {
   "interpreter": {
    "hash": "e263ac88520e67e7b218c6492250f0f17b7902fe6d7a169f79b74ef466c39df6"
   }
  }
 },
 "nbformat": 4,
 "nbformat_minor": 2
}
